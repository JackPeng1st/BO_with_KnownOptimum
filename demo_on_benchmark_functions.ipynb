{
 "cells": [
  {
   "cell_type": "markdown",
   "metadata": {},
   "source": [
    "# Demo on benchmark functions"
   ]
  },
  {
   "cell_type": "code",
   "execution_count": 1,
   "metadata": {},
   "outputs": [],
   "source": [
    "import sys\n",
    "sys.path.insert(0,'..')\n",
    "sys.path.insert(0,'../..')\n",
    "\n",
    "import matplotlib.pyplot as plt\n",
    "\n",
    "from bayes_opt import BayesOpt_KnownOptimumValue,BayesOpt\n",
    "import numpy as np\n",
    "from bayes_opt import vis_ERM,functions\n",
    "import warnings\n",
    "\n",
    "warnings.filterwarnings(\"ignore\")\n"
   ]
  },
  {
   "cell_type": "markdown",
   "metadata": {},
   "source": [
    "# Specify the test function"
   ]
  },
  {
   "cell_type": "code",
   "execution_count": 2,
   "metadata": {},
   "outputs": [],
   "source": [
    "# select the function to be optimized\n",
    "#myfunction=functions.branin(sd=0)\n",
    "myfunction=functions.hartman_3d()\n",
    "#myfunction=functions.hartman_6d()\n",
    "#myfunction=functions.ackley(input_dim=5)\n",
    "#myfunction=functions.gSobol(a=np.array([1,1,1,1,1]))\n",
    "#myfunction=functions.gSobol(a=np.array([1,1,1,1,1,1,1,1,1,1]))\n",
    "\n",
    "\n",
    "func=myfunction.func"
   ]
  },
  {
   "cell_type": "markdown",
   "metadata": {},
   "source": [
    "# Print the black-box function"
   ]
  },
  {
   "cell_type": "code",
   "execution_count": 3,
   "metadata": {},
   "outputs": [
    {
     "name": "stdout",
     "output_type": "stream",
     "text": [
      "<bound method hartman_3d.func of <bayes_opt.functions.hartman_3d object at 0x0000025F52334198>>\n",
      "f([0,0,0])= [[0.06797412]]\n",
      "f([1,1,1])= [[0.30047607]]\n",
      "Search space: [(0, 1), (0, 1), (0, 1)]\n",
      "f* known optimum value is  3.86278\n"
     ]
    }
   ],
   "source": [
    "# myfunction.func: contains the black-box function\n",
    "print(myfunction.func)\n",
    "\n",
    "print(\"f([0,0,0])=\",myfunction.func([0,0,0]))\n",
    "print(\"f([1,1,1])=\",myfunction.func([1,1,1]))\n",
    "\n",
    "\n",
    "# myfunction.bounds: contains the SearchSpace\n",
    "print(\"Search space:\",myfunction.bounds)\n",
    "\n",
    "# myfunction.fstar: contains the known optimum value\n",
    "print(\"f* known optimum value is \", myfunction.fstar)\n"
   ]
  },
  {
   "cell_type": "markdown",
   "metadata": {},
   "source": [
    "# Specify the acquisition function"
   ]
  },
  {
   "cell_type": "code",
   "execution_count": 4,
   "metadata": {},
   "outputs": [],
   "source": [
    "#acq_name='ei'\n",
    "#acq_name='ucb'\n",
    "acq_name='erm'\n",
    "#acq_name='cbm'\n",
    "#acq_name='kov_ei'"
   ]
  },
  {
   "cell_type": "markdown",
   "metadata": {},
   "source": [
    "# Specify the surrogate model either tgp or gp"
   ]
  },
  {
   "cell_type": "code",
   "execution_count": 5,
   "metadata": {},
   "outputs": [],
   "source": [
    "#IsTGP=0 # using vanilla GP \n",
    "IsTGP=1 # using Transformed GP "
   ]
  },
  {
   "cell_type": "markdown",
   "metadata": {},
   "source": [
    "# Set up the BO class"
   ]
  },
  {
   "cell_type": "code",
   "execution_count": 6,
   "metadata": {},
   "outputs": [
    {
     "name": "stdout",
     "output_type": "stream",
     "text": [
      "using transform GP with the known optimum value\n"
     ]
    }
   ],
   "source": [
    "if 'kov' in acq_name or acq_name == 'erm' or acq_name == 'cbm':\n",
    "    bo=BayesOpt_KnownOptimumValue(myfunction.func,myfunction.bounds,fstar=myfunction.fstar, \\\n",
    "                              acq_name=acq_name,IsTGP=1,verbose=0)\n",
    "else:\n",
    "    bo=BayesOpt(myfunction.func,myfunction.bounds,acq_name=acq_name,verbose=0)\n",
    "            \n",
    "if IsTGP==1: \n",
    "    print(\"using transform GP with the known optimum value\")\n",
    "else:\n",
    "    print(\"using vanilla GP without the known optimum value\")"
   ]
  },
  {
   "cell_type": "markdown",
   "metadata": {},
   "source": [
    "# Initialize BO using 3*dim number of observations"
   ]
  },
  {
   "cell_type": "code",
   "execution_count": 7,
   "metadata": {},
   "outputs": [],
   "source": [
    "bo.init(n_init_points=3*myfunction.input_dim)"
   ]
  },
  {
   "cell_type": "markdown",
   "metadata": {},
   "source": [
    "# Run for 10*dim iterations"
   ]
  },
  {
   "cell_type": "raw",
   "metadata": {},
   "source": [
    "NN=10*myfunction.input_dim\n",
    "for index in range(0,NN):\n",
    "\n",
    "    bo.select_next_point()\n",
    "    \n",
    "    if myfunction.ismax==1:\n",
    "        print(\"recommended x={} current y={:.3f}, ymax={:.3f}\".format(bo.X_ori[-1],bo.Y_ori[-1],bo.Y_ori.max()))\n",
    "    else:\n",
    "        print(\"recommended x={} current y={:.3f}, ymin={:.3f}\".format(bo.X_ori[-1],myfunction.ismax*bo.Y_ori[-1],myfunction.ismax*bo.Y_ori.max()))\n",
    "    sys.stdout.flush()\n",
    "\n"
   ]
  },
  {
   "cell_type": "markdown",
   "metadata": {},
   "source": [
    "# Plot the performance"
   ]
  },
  {
   "cell_type": "code",
   "execution_count": 9,
   "metadata": {},
   "outputs": [
    {
     "data": {
      "text/plain": [
       "Text(0.5, 1.0, 'Performance')"
      ]
     },
     "execution_count": 9,
     "metadata": {},
     "output_type": "execute_result"
    },
    {
     "data": {
      "image/png": "[encoded data removed]",
      "text/plain": [
       "<Figure size 432x216 with 1 Axes>"
      ]
     },
     "metadata": {
      "needs_background": "light"
     },
     "output_type": "display_data"
    }
   ],
   "source": [
    "fig=plt.figure(figsize=(6, 3))\n",
    "myYbest=[bo.Y_ori[:idx+1].max()* myfunction.ismax for idx,val in enumerate(bo.Y_ori)]\n",
    "plt.plot(range(len(myYbest)),myYbest,linewidth=2,color='m',linestyle='-',marker='o')\n",
    "if myfunction.ismax==1:\n",
    "    plt.hlines(y=myfunction.fstar,xmin=0,xmax=len(myYbest),label='f*')\n",
    "else:\n",
    "    plt.hlines(y=-myfunction.fstar,xmin=0,xmax=len(myYbest),label='f*')\n",
    "\n",
    "plt.xlabel('Iteration',fontsize=14)\n",
    "plt.ylabel('Best Found Value',fontsize=14)\n",
    "plt.legend(prop={'size': 16})\n",
    "plt.title('Performance',fontsize=16)"
   ]
  },
  {
   "cell_type": "code",
   "execution_count": null,
   "metadata": {},
   "outputs": [],
   "source": []
  }
 ],
 "metadata": {
  "kernelspec": {
   "display_name": "Python 3",
   "language": "python",
   "name": "python3"
  },
  "language_info": {
   "codemirror_mode": {
    "name": "ipython",
    "version": 3
   },
   "file_extension": ".py",
   "mimetype": "text/x-python",
   "name": "python",
   "nbconvert_exporter": "python",
   "pygments_lexer": "ipython3",
   "version": "3.6.13"
  }
 },
 "nbformat": 4,
 "nbformat_minor": 4
}
