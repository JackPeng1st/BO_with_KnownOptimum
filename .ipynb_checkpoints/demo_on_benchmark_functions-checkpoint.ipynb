{
 "cells": [
  {
   "cell_type": "markdown",
   "metadata": {},
   "source": [
    "# Demo on benchmark functions"
   ]
  },
  {
   "cell_type": "code",
   "execution_count": 1,
   "metadata": {},
   "outputs": [],
   "source": [
    "import sys\n",
    "sys.path.insert(0,'..')\n",
    "sys.path.insert(0,'../..')\n",
    "\n",
    "import matplotlib.pyplot as plt\n",
    "\n",
    "from bayes_opt import BayesOpt_KnownOptimumValue,BayesOpt\n",
    "import numpy as np\n",
    "from bayes_opt import vis_ERM,functions\n",
    "import warnings\n",
    "\n",
    "warnings.filterwarnings(\"ignore\")\n"
   ]
  },
  {
   "cell_type": "markdown",
   "metadata": {},
   "source": [
    "# Specify the test function"
   ]
  },
  {
   "cell_type": "code",
   "execution_count": 2,
   "metadata": {},
   "outputs": [],
   "source": [
    "# select the function to be optimized\n",
    "#myfunction=functions.branin(sd=0)\n",
    "myfunction=functions.hartman_3d()\n",
    "#myfunction=functions.hartman_6d()\n",
    "#myfunction=functions.ackley(input_dim=5)\n",
    "#myfunction=functions.gSobol(a=np.array([1,1,1,1,1]))\n",
    "#myfunction=functions.gSobol(a=np.array([1,1,1,1,1,1,1,1,1,1]))\n",
    "\n",
    "\n",
    "func=myfunction.func"
   ]
  },
  {
   "cell_type": "markdown",
   "metadata": {},
   "source": [
    "# Print the black-box function"
   ]
  },
  {
   "cell_type": "code",
   "execution_count": 3,
   "metadata": {},
   "outputs": [
    {
     "name": "stdout",
     "output_type": "stream",
     "text": [
      "<bound method hartman_3d.func of <bayes_opt.functions.hartman_3d object at 0x0000029052CE1D88>>\n",
      "f([0,0,0])= [[0.06797412]]\n",
      "f([1,1,1])= [[0.30047607]]\n",
      "Search space: [(0, 1), (0, 1), (0, 1)]\n",
      "f* known optimum value is  3.86278\n"
     ]
    }
   ],
   "source": [
    "# myfunction.func: contains the black-box function\n",
    "print(myfunction.func)\n",
    "\n",
    "print(\"f([0,0,0])=\",myfunction.func([0,0,0]))\n",
    "print(\"f([1,1,1])=\",myfunction.func([1,1,1]))\n",
    "\n",
    "\n",
    "# myfunction.bounds: contains the SearchSpace\n",
    "print(\"Search space:\",myfunction.bounds)\n",
    "\n",
    "# myfunction.fstar: contains the known optimum value\n",
    "print(\"f* known optimum value is \", myfunction.fstar)\n"
   ]
  },
  {
   "cell_type": "markdown",
   "metadata": {},
   "source": [
    "# Specify the acquisition function"
   ]
  },
  {
   "cell_type": "code",
   "execution_count": 4,
   "metadata": {},
   "outputs": [],
   "source": [
    "#acq_name='ei'\n",
    "#acq_name='ucb'\n",
    "acq_name='erm'\n",
    "#acq_name='cbm'\n",
    "#acq_name='kov_ei'"
   ]
  },
  {
   "cell_type": "markdown",
   "metadata": {},
   "source": [
    "# Specify the surrogate model either tgp or gp"
   ]
  },
  {
   "cell_type": "code",
   "execution_count": 5,
   "metadata": {},
   "outputs": [],
   "source": [
    "#IsTGP=0 # using vanilla GP \n",
    "IsTGP=1 # using Transformed GP "
   ]
  },
  {
   "cell_type": "markdown",
   "metadata": {},
   "source": [
    "# Set up the BO class"
   ]
  },
  {
   "cell_type": "code",
   "execution_count": 6,
   "metadata": {},
   "outputs": [
    {
     "name": "stdout",
     "output_type": "stream",
     "text": [
      "using transform GP with the known optimum value\n"
     ]
    }
   ],
   "source": [
    "if 'kov' in acq_name or acq_name == 'erm' or acq_name == 'cbm':\n",
    "    bo=BayesOpt_KnownOptimumValue(myfunction.func,myfunction.bounds,fstar=myfunction.fstar, \\\n",
    "                              acq_name=acq_name,IsTGP=1,verbose=0)\n",
    "else:\n",
    "    bo=BayesOpt(myfunction.func,myfunction.bounds,acq_name=acq_name,verbose=0)\n",
    "            \n",
    "if IsTGP==1: \n",
    "    print(\"using transform GP with the known optimum value\")\n",
    "else:\n",
    "    print(\"using vanilla GP without the known optimum value\")"
   ]
  },
  {
   "cell_type": "markdown",
   "metadata": {},
   "source": [
    "# Initialize BO using 3*dim number of observations"
   ]
  },
  {
   "cell_type": "code",
   "execution_count": 7,
   "metadata": {},
   "outputs": [],
   "source": [
    "bo.init(n_init_points=3*myfunction.input_dim)"
   ]
  },
  {
   "cell_type": "markdown",
   "metadata": {},
   "source": [
    "# Run for 10*dim iterations"
   ]
  },
  {
   "cell_type": "code",
   "execution_count": 8,
   "metadata": {},
   "outputs": [
    {
     "name": "stdout",
     "output_type": "stream",
     "text": [
      "recommended x=[0.384657   0.3368261  0.75005615] current y=-2.095, ymin=-2.095\n",
      "recommended x=[0.43159522 0.36379535 0.73276084] current y=-2.110, ymin=-2.110\n",
      "recommended x=[0.41619775 0.3544163  0.73834301] current y=-2.108, ymin=-2.110\n",
      "recommended x=[0.42887602 0.37820349 0.74077231] current y=-2.282, ymin=-2.282\n",
      "recommended x=[0.40362062 0.44553293 0.78575834] current y=-3.136, ymin=-3.136\n",
      "recommended x=[0.38349598 0.4992977  0.82128287] current y=-3.641, ymin=-3.641\n",
      "recommended x=[0.36415738 0.55131567 0.85536154] current y=-3.826, ymin=-3.826\n",
      "recommended x=[0.35480693 0.57682775 0.87192066] current y=-3.779, ymin=-3.826\n",
      "recommended x=[0.36000329 0.54980969 0.85844176] current y=-3.824, ymin=-3.826\n",
      "recommended x=[0.37093805 0.55803245 0.85171427] current y=-3.824, ymin=-3.826\n",
      "recommended x=[0.36855172 0.552578   0.85883905] current y=-3.822, ymin=-3.826\n",
      "recommended x=[0.34843778 0.56015269 0.83572862] current y=-3.801, ymin=-3.826\n",
      "recommended x=[0.36212322 0.55499744 0.85140145] current y=-3.827, ymin=-3.827\n",
      "recommended x=[0.49334596 0.19321409 0.62146789] current y=-0.483, ymin=-3.827\n",
      "recommended x=[0.36249882 0.55454473 0.85177087] current y=-3.827, ymin=-3.827\n",
      "recommended x=[0.36252407 0.55498718 0.85190499] current y=-3.827, ymin=-3.827\n",
      "recommended x=[0.36248743 0.55473539 0.85181354] current y=-3.827, ymin=-3.827\n",
      "recommended x=[0.3625371  0.55469467 0.8518277 ] current y=-3.827, ymin=-3.827\n",
      "recommended x=[0.36252537 0.55480723 0.85177649] current y=-3.827, ymin=-3.827\n",
      "recommended x=[0.36242922 0.55473456 0.85195101] current y=-3.827, ymin=-3.827\n",
      "recommended x=[0.36192545 0.55462275 0.85216125] current y=-3.827, ymin=-3.827\n",
      "recommended x=[0.35416078 0.55330322 0.85270328] current y=-3.829, ymin=-3.829\n",
      "recommended x=[0.27429889 0.55221508 0.84479213] current y=-3.842, ymin=-3.842\n",
      "recommended x=[0.27403626 0.55221404 0.84471887] current y=-3.841, ymin=-3.842\n",
      "recommended x=[0.28064188 0.55838759 0.85059844] current y=-3.845, ymin=-3.845\n",
      "recommended x=[0.27632285 0.56210616 0.85131018] current y=-3.845, ymin=-3.845\n",
      "recommended x=[0.28270766 0.55872616 0.85331348] current y=-3.845, ymin=-3.845\n",
      "recommended x=[0.28550892 0.56001739 0.85162158] current y=-3.844, ymin=-3.845\n",
      "recommended x=[0.26029522 0.557922   0.85513025] current y=-3.849, ymin=-3.849\n",
      "recommended x=[0.21746732 0.55512481 0.86471462] current y=-3.842, ymin=-3.849\n"
     ]
    }
   ],
   "source": [
    "NN=10*myfunction.input_dim\n",
    "for index in range(0,NN):\n",
    "\n",
    "    bo.select_next_point()\n",
    "    \n",
    "    if myfunction.ismax==1:\n",
    "        print(\"recommended x={} current y={:.3f}, ymax={:.3f}\".format(bo.X_ori[-1],bo.Y_ori[-1],bo.Y_ori.max()))\n",
    "    else:\n",
    "        print(\"recommended x={} current y={:.3f}, ymin={:.3f}\".format(bo.X_ori[-1],myfunction.ismax*bo.Y_ori[-1],myfunction.ismax*bo.Y_ori.max()))\n",
    "    sys.stdout.flush()\n",
    "\n"
   ]
  },
  {
   "cell_type": "markdown",
   "metadata": {},
   "source": [
    "# Plot the performance"
   ]
  },
  {
   "cell_type": "code",
   "execution_count": 9,
   "metadata": {},
   "outputs": [
    {
     "data": {
      "text/plain": [
       "Text(0.5, 1.0, 'Performance')"
      ]
     },
     "execution_count": 9,
     "metadata": {},
     "output_type": "execute_result"
    },
    {
     "data": {
      "image/png": "[encoded data removed]",
      "text/plain": [
       "<Figure size 432x216 with 1 Axes>"
      ]
     },
     "metadata": {
      "needs_background": "light"
     },
     "output_type": "display_data"
    }
   ],
   "source": [
    "fig=plt.figure(figsize=(6, 3))\n",
    "myYbest=[bo.Y_ori[:idx+1].max()* myfunction.ismax for idx,val in enumerate(bo.Y_ori)]\n",
    "plt.plot(range(len(myYbest)),myYbest,linewidth=2,color='m',linestyle='-',marker='o')\n",
    "if myfunction.ismax==1:\n",
    "    plt.hlines(y=myfunction.fstar,xmin=0,xmax=len(myYbest),label='f*')\n",
    "else:\n",
    "    plt.hlines(y=-myfunction.fstar,xmin=0,xmax=len(myYbest),label='f*')\n",
    "\n",
    "plt.xlabel('Iteration',fontsize=14)\n",
    "plt.ylabel('Best Found Value',fontsize=14)\n",
    "plt.legend(prop={'size': 16})\n",
    "plt.title('Performance',fontsize=16)"
   ]
  }
 ],
 "metadata": {
  "kernelspec": {
   "display_name": "Python 3",
   "language": "python",
   "name": "python3"
  },
  "language_info": {
   "codemirror_mode": {
    "name": "ipython",
    "version": 3
   },
   "file_extension": ".py",
   "mimetype": "text/x-python",
   "name": "python",
   "nbconvert_exporter": "python",
   "pygments_lexer": "ipython3",
   "version": "3.7.4"
  }
 },
 "nbformat": 4,
 "nbformat_minor": 2
}
