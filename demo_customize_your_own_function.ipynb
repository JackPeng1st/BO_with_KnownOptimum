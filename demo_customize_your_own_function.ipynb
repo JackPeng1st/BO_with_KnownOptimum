{
 "cells": [
  {
   "cell_type": "markdown",
   "metadata": {},
   "source": [
    "# This notebook defines our own black-box function to be optimized with Bayesian Optimization"
   ]
  },
  {
   "cell_type": "code",
   "execution_count": 1,
   "metadata": {},
   "outputs": [],
   "source": [
    "import matplotlib.pyplot as plt\n",
    "from bayes_opt import BayesOpt_KnownOptimumValue,BayesOpt\n",
    "import numpy as np\n",
    "from bayes_opt import vis_ERM,functions\n",
    "from tabulate import tabulate\n",
    "\n"
   ]
  },
  {
   "cell_type": "markdown",
   "metadata": {},
   "source": [
    "# Customize your own function"
   ]
  },
  {
   "cell_type": "code",
   "execution_count": 2,
   "metadata": {},
   "outputs": [],
   "source": [
    "class YourFunction:\n",
    "    def __init__(self):\n",
    "       \n",
    "        # define the search range for each variable\n",
    "        self.bounds = np.asarray([\n",
    "                                [-5,10],  # variable 1\n",
    "                                  [0,15] # variable 2\n",
    "                                 ])\n",
    "            \n",
    "        self.input_dim = self.bounds.shape[0] # this is 2\n",
    "\n",
    "        # do we want to maximize the function or minimize ?\n",
    "        self.ismax=-1  # set -1 if we want to minimize\n",
    "        \n",
    "        # define the known optimum value if it is available\n",
    "        #self.fstar = 0.397887*self.ismax # set it None if we dont know\n",
    "        \n",
    "        # define the name of your function\n",
    "        self.name='ICML20'\n",
    "        \n",
    "    def evaluate_single_fx(self,X): # this is actually a Branin function\n",
    "        # evaluate y=f(X)\n",
    "        X = np.reshape(X,self.input_dim)\n",
    "        x1,x2=X[0],X[1]\n",
    "     \n",
    "        a=1\n",
    "        b=5.1/(4*np.pi**2)\n",
    "        c=5/np.pi\n",
    "        r=6\n",
    "        s=10\n",
    "        t=1/(8*np.pi)\n",
    "        y=a*(x2-b*x1*x1+c*x1-r)**2+s*(1-t)*np.cos(x1)+s    \n",
    "      \n",
    "        return y*self.ismax # return the (-1) * fx for minimization problem\n",
    "   \n",
    "    \n",
    "    def func(self,X):\n",
    "        X=np.asarray(X)        \n",
    "       \n",
    "        if len(X.shape)==1: # 1 data point\n",
    "            fx=self.evaluate_single_fx(X)\n",
    "        else: # multiple data points\n",
    "            fx=np.apply_along_axis( self.evaluate_single_fx,1,X)\n",
    "            \n",
    "        return fx  "
   ]
  },
  {
   "cell_type": "markdown",
   "metadata": {},
   "source": [
    "# Init the black-box function"
   ]
  },
  {
   "cell_type": "code",
   "execution_count": 3,
   "metadata": {},
   "outputs": [],
   "source": [
    "myfunction=YourFunction()"
   ]
  },
  {
   "cell_type": "markdown",
   "metadata": {},
   "source": [
    "# Specify Bayesian optimization"
   ]
  },
  {
   "cell_type": "code",
   "execution_count": 4,
   "metadata": {},
   "outputs": [],
   "source": [
    "#acq_name='erm'\n",
    "acq_name='ei'\n",
    "\n",
    "if 'kov' in acq_name or acq_name == 'erm' or acq_name == 'cbm':\n",
    "    bo=BayesOpt_KnownOptimumValue(myfunction.func,myfunction.bounds,fstar=myfunction.fstar, \\\n",
    "                              acq_name=acq_name,IsTGP=1,verbose=1)\n",
    "else:\n",
    "    bo=BayesOpt(myfunction.func,myfunction.bounds,acq_name=acq_name,verbose=1)\n",
    "\n"
   ]
  },
  {
   "cell_type": "markdown",
   "metadata": {},
   "source": [
    "# Initialize BO using 3*dim number of observations"
   ]
  },
  {
   "cell_type": "code",
   "execution_count": 5,
   "metadata": {},
   "outputs": [],
   "source": [
    "bo.init(n_init_points=3*myfunction.input_dim)"
   ]
  },
  {
   "cell_type": "markdown",
   "metadata": {},
   "source": [
    "# Run for 10*dim iterations"
   ]
  },
  {
   "cell_type": "code",
   "execution_count": 6,
   "metadata": {},
   "outputs": [
    {
     "name": "stdout",
     "output_type": "stream",
     "text": [
      "estimated lengthscale [0.0353949]\n",
      "  Iter  Selected x         Output y=f(x)    Best Observed Value\n",
      "------  ---------------  ---------------  ---------------------\n",
      "     0  [-0.862  5.967]          -18.501                -18.501\n",
      "  Iter  Selected x         Output y=f(x)    Best Observed Value\n",
      "------  ---------------  ---------------  ---------------------\n",
      "     1  [-1.818  7.607]          -10.586                -10.586\n",
      "  Iter  Selected x         Output y=f(x)    Best Observed Value\n",
      "------  ---------------  ---------------  ---------------------\n",
      "     2  [-2.858 10.062]           -3.158                 -3.158\n",
      "  Iter  Selected x         Output y=f(x)    Best Observed Value\n",
      "------  ---------------  ---------------  ---------------------\n",
      "     3  [-4.881 10.904]          -46.923                 -3.158\n",
      "  Iter  Selected x         Output y=f(x)    Best Observed Value\n",
      "------  ---------------  ---------------  ---------------------\n",
      "     4  [-1.63   9.679]           -9.986                 -3.158\n",
      "  Iter  Selected x       Output y=f(x)    Best Observed Value\n",
      "------  -------------  ---------------  ---------------------\n",
      "     5  [4.21  7.399]          -39.126                 -3.158\n",
      "estimated lengthscale [0.0417672]\n",
      "  Iter  Selected x         Output y=f(x)    Best Observed Value\n",
      "------  ---------------  ---------------  ---------------------\n",
      "     6  [-2.428 12.466]           -6.132                 -3.158\n",
      "  Iter  Selected x         Output y=f(x)    Best Observed Value\n",
      "------  ---------------  ---------------  ---------------------\n",
      "     7  [-2.241 15.   ]          -26.926                 -3.158\n",
      "  Iter  Selected x      Output y=f(x)    Best Observed Value\n",
      "------  ------------  ---------------  ---------------------\n",
      "     8  [10.  0.]             -10.961                 -3.158\n",
      "  Iter  Selected x       Output y=f(x)    Best Observed Value\n",
      "------  -------------  ---------------  ---------------------\n",
      "     9  [7.471 0.   ]          -15.332                 -3.158\n",
      "  Iter  Selected x       Output y=f(x)    Best Observed Value\n",
      "------  -------------  ---------------  ---------------------\n",
      "    10  [9.046 2.372]           -1.117                 -1.117\n",
      "  Iter  Selected x       Output y=f(x)    Best Observed Value\n",
      "------  -------------  ---------------  ---------------------\n",
      "    11  [6.881 3.052]          -21.499                 -1.117\n",
      "estimated lengthscale [0.04193778]\n",
      "  Iter  Selected x         Output y=f(x)    Best Observed Value\n",
      "------  ---------------  ---------------  ---------------------\n",
      "    12  [10.     4.575]           -4.414                 -1.117\n",
      "  Iter  Selected x         Output y=f(x)    Best Observed Value\n",
      "------  ---------------  ---------------  ---------------------\n",
      "    13  [10.     7.691]          -23.925                 -1.117\n",
      "  Iter  Selected x         Output y=f(x)    Best Observed Value\n",
      "------  ---------------  ---------------  ---------------------\n",
      "    14  [10.    12.868]          -99.259                 -1.117\n",
      "  Iter  Selected x       Output y=f(x)    Best Observed Value\n",
      "------  -------------  ---------------  ---------------------\n",
      "    15  [8.283 5.527]          -20.801                 -1.117\n",
      "  Iter  Selected x       Output y=f(x)    Best Observed Value\n",
      "------  -------------  ---------------  ---------------------\n",
      "    16  [3.591 0.   ]           -5.156                 -1.117\n",
      "  Iter  Selected x         Output y=f(x)    Best Observed Value\n",
      "------  ---------------  ---------------  ---------------------\n",
      "    17  [10.     2.538]           -2.159                 -1.117\n",
      "estimated lengthscale [0.04712622]\n",
      "  Iter  Selected x       Output y=f(x)    Best Observed Value\n",
      "------  -------------  ---------------  ---------------------\n",
      "    18  [2.647 1.937]           -2.121                 -1.117\n",
      "  Iter  Selected x       Output y=f(x)    Best Observed Value\n",
      "------  -------------  ---------------  ---------------------\n",
      "    19  [1.763 0.207]          -19.649                 -1.117\n",
      "  Iter  Selected x       Output y=f(x)    Best Observed Value\n",
      "------  -------------  ---------------  ---------------------\n",
      "    20  [4.007 1.537]           -3.798                 -1.117\n",
      "  Iter  Selected x         Output y=f(x)    Best Observed Value\n",
      "------  ---------------  ---------------  ---------------------\n",
      "    21  [ 4.678 15.   ]         -195.118                 -1.117\n",
      "  Iter  Selected x       Output y=f(x)    Best Observed Value\n",
      "------  -------------  ---------------  ---------------------\n",
      "    22  [3.139 4.024]           -3.449                 -1.117\n",
      "  Iter  Selected x       Output y=f(x)    Best Observed Value\n",
      "------  -------------  ---------------  ---------------------\n",
      "    23  [1.131 3.555]           -14.74                 -1.117\n",
      "estimated lengthscale [0.07061291]\n",
      "  Iter  Selected x      Output y=f(x)    Best Observed Value\n",
      "------  ------------  ---------------  ---------------------\n",
      "    24  [-5. 15.]             -17.508                 -1.117\n",
      "  Iter  Selected x       Output y=f(x)    Best Observed Value\n",
      "------  -------------  ---------------  ---------------------\n",
      "    25  [3.221 2.883]           -0.876                 -0.876\n",
      "  Iter  Selected x       Output y=f(x)    Best Observed Value\n",
      "------  -------------  ---------------  ---------------------\n",
      "    26  [9.278 3.498]            -1.81                 -0.876\n",
      "  Iter  Selected x       Output y=f(x)    Best Observed Value\n",
      "------  -------------  ---------------  ---------------------\n",
      "    27  [7.257 9.254]          -79.407                 -0.876\n",
      "  Iter  Selected x         Output y=f(x)    Best Observed Value\n",
      "------  ---------------  ---------------  ---------------------\n",
      "    28  [-3.188  8.578]           -14.91                 -0.876\n",
      "  Iter  Selected x         Output y=f(x)    Best Observed Value\n",
      "------  ---------------  ---------------  ---------------------\n",
      "    29  [-3.679 13.355]           -1.814                 -0.876\n",
      "==================================================================================\n",
      "Best found x      Best found f(x)\n",
      "--------------  -----------------\n",
      "[3.221 2.883]              -0.876\n"
     ]
    }
   ],
   "source": [
    "NN=15*myfunction.input_dim\n",
    "for index in range(0,NN):\n",
    "\n",
    "    bo.select_next_point()\n",
    "\n",
    "    print(tabulate([[ index,np.round(bo.X_ori[-1],3), np.round(bo.Y_ori[-1],3), np.round(bo.Y_ori.max(),3)]], \\\n",
    "               headers=['Iter','Selected x', 'Output y=f(x)', 'Best Observed Value']))\n",
    "\n",
    "    \n",
    "print(\"==================================================================================\")\n",
    "idxMax=np.argmax(bo.Y_ori)\n",
    "print(tabulate([[ np.round(bo.X_ori[idxMax],3), np.round(bo.Y_ori[idxMax],3)]], \\\n",
    "           headers=['Best found x', 'Best found f(x)']))   "
   ]
  },
  {
   "cell_type": "markdown",
   "metadata": {},
   "source": [
    "# Plot the performance"
   ]
  },
  {
   "cell_type": "code",
   "execution_count": 7,
   "metadata": {},
   "outputs": [
    {
     "data": {
      "text/plain": [
       "Text(0.5, 1.0, 'Performance')"
      ]
     },
     "execution_count": 7,
     "metadata": {},
     "output_type": "execute_result"
    },
    {
     "data": {
      "image/png": "[encoded data removed]",
      "text/plain": [
       "<Figure size 432x216 with 1 Axes>"
      ]
     },
     "metadata": {
      "needs_background": "light"
     },
     "output_type": "display_data"
    }
   ],
   "source": [
    "fig=plt.figure(figsize=(6, 3))\n",
    "myYbest=[bo.Y_ori[:idx+1].max() for idx,val in enumerate(bo.Y_ori)]\n",
    "plt.plot(range(len(myYbest)),myYbest,linewidth=2,color='m',linestyle='-',marker='o',label='BO')\n",
    "\n",
    "\n",
    "plt.xlabel('Iteration',fontsize=14)\n",
    "plt.ylabel('Best Found Value',fontsize=14)\n",
    "plt.legend(prop={'size': 16})\n",
    "plt.title('Performance',fontsize=16)"
   ]
  },
  {
   "cell_type": "markdown",
   "metadata": {},
   "source": [
    "# Run Random Search Baseline"
   ]
  },
  {
   "cell_type": "code",
   "execution_count": 8,
   "metadata": {},
   "outputs": [],
   "source": [
    "# number of points\n",
    "n_point=len(bo.Y_ori) \n",
    "\n",
    "# uniformly select the input\n",
    "X_rand = np.random.uniform(myfunction.bounds[:, 0], myfunction.bounds[:, 1],size=(n_point, myfunction.input_dim))\n",
    "\n",
    "# evaluate the black-box function\n",
    "Y_rand=myfunction.func(X_rand)\n"
   ]
  },
  {
   "cell_type": "markdown",
   "metadata": {},
   "source": [
    "# Comparing Bayes Opt with Random Search"
   ]
  },
  {
   "cell_type": "code",
   "execution_count": 9,
   "metadata": {},
   "outputs": [
    {
     "data": {
      "text/plain": [
       "Text(0.5, 1.0, 'Performance')"
      ]
     },
     "execution_count": 9,
     "metadata": {},
     "output_type": "execute_result"
    },
    {
     "data": {
      "image/png": "[encoded data removed]",
      "text/plain": [
       "<Figure size 432x216 with 1 Axes>"
      ]
     },
     "metadata": {
      "needs_background": "light"
     },
     "output_type": "display_data"
    }
   ],
   "source": [
    "fig=plt.figure(figsize=(6, 3))\n",
    "\n",
    "myYbest_BO=[bo.Y_ori[:idx+1].max() for idx,val in enumerate(bo.Y_ori)]\n",
    "plt.plot(range(len(myYbest_BO)),myYbest_BO,linewidth=2,color='m',linestyle='-',marker='o',label='BO')\n",
    "\n",
    "\n",
    "myYbest_Rand=[Y_rand[:idx+1].max() for idx,val in enumerate(Y_rand)]\n",
    "plt.plot(range(len(myYbest_Rand)),myYbest_Rand,linewidth=2,color='b',linestyle=':',marker='s',label='Rand')\n",
    "\n",
    "#plt.hlines(y=myfunction.ismax*myfunction.fstar,xmin=0,xmax=len(myYbest),label='f*')\n",
    "\n",
    "plt.ylim([-5,0])\n",
    "plt.xlabel('Iteration',fontsize=14)\n",
    "plt.ylabel('Best Found Value',fontsize=14)\n",
    "plt.legend(prop={'size': 16})\n",
    "plt.title('Performance',fontsize=16)"
   ]
  },
  {
   "cell_type": "markdown",
   "metadata": {},
   "source": [
    "# Most of the time, BayesOpt will outperform Random Search"
   ]
  }
 ],
 "metadata": {
  "kernelspec": {
   "display_name": "Python 3",
   "language": "python",
   "name": "python3"
  },
  "language_info": {
   "codemirror_mode": {
    "name": "ipython",
    "version": 3
   },
   "file_extension": ".py",
   "mimetype": "text/x-python",
   "name": "python",
   "nbconvert_exporter": "python",
   "pygments_lexer": "ipython3",
   "version": "3.6.13"
  }
 },
 "nbformat": 4,
 "nbformat_minor": 4
}
